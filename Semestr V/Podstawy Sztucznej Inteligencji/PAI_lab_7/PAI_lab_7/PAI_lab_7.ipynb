{
  "cells": [
    {
      "cell_type": "markdown",
      "metadata": {
        "id": "9gT7d462Dw06"
      },
      "source": [
        "Import biblioteki **TensorFlow** ([https://www.tensorflow.org/](https://www.tensorflow.org/)) z której będziemy korzystali w **uczeniu maszynowym**:"
      ]
    },
    {
      "cell_type": "code",
      "execution_count": 1,
      "metadata": {
        "id": "6_Ec9f9O1DIv"
      },
      "outputs": [
        {
          "name": "stderr",
          "output_type": "stream",
          "text": [
            "2025-01-22 23:27:31.835815: I tensorflow/tsl/cuda/cudart_stub.cc:28] Could not find cuda drivers on your machine, GPU will not be used.\n",
            "2025-01-22 23:27:31.867065: E tensorflow/compiler/xla/stream_executor/cuda/cuda_dnn.cc:9342] Unable to register cuDNN factory: Attempting to register factory for plugin cuDNN when one has already been registered\n",
            "2025-01-22 23:27:31.867113: E tensorflow/compiler/xla/stream_executor/cuda/cuda_fft.cc:609] Unable to register cuFFT factory: Attempting to register factory for plugin cuFFT when one has already been registered\n",
            "2025-01-22 23:27:31.867155: E tensorflow/compiler/xla/stream_executor/cuda/cuda_blas.cc:1518] Unable to register cuBLAS factory: Attempting to register factory for plugin cuBLAS when one has already been registered\n",
            "2025-01-22 23:27:31.874698: I tensorflow/tsl/cuda/cudart_stub.cc:28] Could not find cuda drivers on your machine, GPU will not be used.\n",
            "2025-01-22 23:27:31.875113: I tensorflow/core/platform/cpu_feature_guard.cc:182] This TensorFlow binary is optimized to use available CPU instructions in performance-critical operations.\n",
            "To enable the following instructions: AVX2 FMA, in other operations, rebuild TensorFlow with the appropriate compiler flags.\n",
            "2025-01-22 23:27:32.951803: W tensorflow/compiler/tf2tensorrt/utils/py_utils.cc:38] TF-TRT Warning: Could not find TensorRT\n"
          ]
        }
      ],
      "source": [
        "import tensorflow as tf\n",
        "import matplotlib.pyplot as plt\n",
        "import numpy as np"
      ]
    },
    {
      "cell_type": "markdown",
      "metadata": {
        "id": "-NiZd6x1f8E8"
      },
      "source": [
        "**Dwa gangi**"
      ]
    },
    {
      "cell_type": "code",
      "execution_count": 3,
      "metadata": {
        "colab": {
          "base_uri": "https://localhost:8080/",
          "height": 424
        },
        "id": "bDYDoOpeFUBc",
        "outputId": "b3a7cebd-4c2a-4797-af92-63b14ffd4264"
      },
      "outputs": [
        {
          "data": {
            "text/html": [
              "<div>\n",
              "<style scoped>\n",
              "    .dataframe tbody tr th:only-of-type {\n",
              "        vertical-align: middle;\n",
              "    }\n",
              "\n",
              "    .dataframe tbody tr th {\n",
              "        vertical-align: top;\n",
              "    }\n",
              "\n",
              "    .dataframe thead th {\n",
              "        text-align: right;\n",
              "    }\n",
              "</style>\n",
              "<table border=\"1\" class=\"dataframe\">\n",
              "  <thead>\n",
              "    <tr style=\"text-align: right;\">\n",
              "      <th></th>\n",
              "      <th>Unnamed: 0</th>\n",
              "      <th>x</th>\n",
              "      <th>y</th>\n",
              "      <th>label</th>\n",
              "    </tr>\n",
              "  </thead>\n",
              "  <tbody>\n",
              "    <tr>\n",
              "      <th>0</th>\n",
              "      <td>0</td>\n",
              "      <td>4.542370</td>\n",
              "      <td>1.239985</td>\n",
              "      <td>0.0</td>\n",
              "    </tr>\n",
              "    <tr>\n",
              "      <th>1</th>\n",
              "      <td>1</td>\n",
              "      <td>3.362026</td>\n",
              "      <td>3.005807</td>\n",
              "      <td>0.0</td>\n",
              "    </tr>\n",
              "    <tr>\n",
              "      <th>2</th>\n",
              "      <td>2</td>\n",
              "      <td>2.015592</td>\n",
              "      <td>2.248925</td>\n",
              "      <td>0.0</td>\n",
              "    </tr>\n",
              "    <tr>\n",
              "      <th>3</th>\n",
              "      <td>3</td>\n",
              "      <td>2.464453</td>\n",
              "      <td>0.783281</td>\n",
              "      <td>0.0</td>\n",
              "    </tr>\n",
              "    <tr>\n",
              "      <th>4</th>\n",
              "      <td>4</td>\n",
              "      <td>3.751106</td>\n",
              "      <td>1.087531</td>\n",
              "      <td>0.0</td>\n",
              "    </tr>\n",
              "    <tr>\n",
              "      <th>...</th>\n",
              "      <td>...</td>\n",
              "      <td>...</td>\n",
              "      <td>...</td>\n",
              "      <td>...</td>\n",
              "    </tr>\n",
              "    <tr>\n",
              "      <th>1995</th>\n",
              "      <td>1995</td>\n",
              "      <td>6.060069</td>\n",
              "      <td>5.157456</td>\n",
              "      <td>1.0</td>\n",
              "    </tr>\n",
              "    <tr>\n",
              "      <th>1996</th>\n",
              "      <td>1996</td>\n",
              "      <td>6.105566</td>\n",
              "      <td>5.628897</td>\n",
              "      <td>1.0</td>\n",
              "    </tr>\n",
              "    <tr>\n",
              "      <th>1997</th>\n",
              "      <td>1997</td>\n",
              "      <td>7.892450</td>\n",
              "      <td>9.247378</td>\n",
              "      <td>1.0</td>\n",
              "    </tr>\n",
              "    <tr>\n",
              "      <th>1998</th>\n",
              "      <td>1998</td>\n",
              "      <td>6.455157</td>\n",
              "      <td>5.098539</td>\n",
              "      <td>1.0</td>\n",
              "    </tr>\n",
              "    <tr>\n",
              "      <th>1999</th>\n",
              "      <td>1999</td>\n",
              "      <td>8.386972</td>\n",
              "      <td>6.803802</td>\n",
              "      <td>1.0</td>\n",
              "    </tr>\n",
              "  </tbody>\n",
              "</table>\n",
              "<p>2000 rows × 4 columns</p>\n",
              "</div>"
            ],
            "text/plain": [
              "      Unnamed: 0         x         y  label\n",
              "0              0  4.542370  1.239985    0.0\n",
              "1              1  3.362026  3.005807    0.0\n",
              "2              2  2.015592  2.248925    0.0\n",
              "3              3  2.464453  0.783281    0.0\n",
              "4              4  3.751106  1.087531    0.0\n",
              "...          ...       ...       ...    ...\n",
              "1995        1995  6.060069  5.157456    1.0\n",
              "1996        1996  6.105566  5.628897    1.0\n",
              "1997        1997  7.892450  9.247378    1.0\n",
              "1998        1998  6.455157  5.098539    1.0\n",
              "1999        1999  8.386972  6.803802    1.0\n",
              "\n",
              "[2000 rows x 4 columns]"
            ]
          },
          "execution_count": 3,
          "metadata": {},
          "output_type": "execute_result"
        }
      ],
      "source": [
        "import pandas as pd\n",
        "data = pd.read_csv('dane_2.csv')\n",
        "data"
      ]
    },
    {
      "cell_type": "markdown",
      "metadata": {
        "id": "8fHvNgqZizIM"
      },
      "source": [
        "W zbiorze danych 1000 punktów (indeksy 0-999) ma przypisaną etykietę 0, drugi 1000 punktów (indeksy 1000-1999) ma przypisaną etykietę 1."
      ]
    },
    {
      "cell_type": "markdown",
      "metadata": {
        "id": "4BZfQzjEGw38"
      },
      "source": [
        "Konwersja z DataFrame do tablicy np.array:"
      ]
    },
    {
      "cell_type": "code",
      "execution_count": 6,
      "metadata": {
        "colab": {
          "base_uri": "https://localhost:8080/"
        },
        "id": "2LJAGUZ8Gg-m",
        "outputId": "d48789ff-713d-4963-d032-5bb5d238248c"
      },
      "outputs": [
        {
          "data": {
            "text/plain": [
              "array([[0.00000000e+00, 4.54236966e+00, 1.23998542e+00, 0.00000000e+00],\n",
              "       [1.00000000e+00, 3.36202576e+00, 3.00580678e+00, 0.00000000e+00],\n",
              "       [2.00000000e+00, 2.01559185e+00, 2.24892501e+00, 0.00000000e+00],\n",
              "       ...,\n",
              "       [1.99700000e+03, 7.89245031e+00, 9.24737815e+00, 1.00000000e+00],\n",
              "       [1.99800000e+03, 6.45515687e+00, 5.09853926e+00, 1.00000000e+00],\n",
              "       [1.99900000e+03, 8.38697159e+00, 6.80380202e+00, 1.00000000e+00]])"
            ]
          },
          "execution_count": 6,
          "metadata": {},
          "output_type": "execute_result"
        }
      ],
      "source": [
        "data_new = np.array(data)\n",
        "data_new"
      ]
    },
    {
      "cell_type": "code",
      "execution_count": 4,
      "metadata": {
        "colab": {
          "base_uri": "https://localhost:8080/"
        },
        "id": "gwqw_qhR9I3R",
        "outputId": "2473ce5e-85fc-417b-f778-d0e4bace6904"
      },
      "outputs": [
        {
          "data": {
            "text/plain": [
              "array([[  1,   2,   3,   4,   5],\n",
              "       [  7,   8,  -3,   1,   6],\n",
              "       [  9,   1,   6,  -4,   1],\n",
              "       [ 11, -12,  -3,   4,   0]])"
            ]
          },
          "execution_count": 4,
          "metadata": {},
          "output_type": "execute_result"
        }
      ],
      "source": [
        "A = np.array([[1,2,3,4,5],[7,8,-3,1,6],[9,1,6,-4,1],[11,-12,-3,4,0]])\n",
        "A"
      ]
    },
    {
      "cell_type": "code",
      "execution_count": 5,
      "metadata": {
        "colab": {
          "base_uri": "https://localhost:8080/"
        },
        "id": "k_WW7JTT9sKr",
        "outputId": "84ba44e1-56c3-4b2a-d679-379f3651d721"
      },
      "outputs": [
        {
          "data": {
            "text/plain": [
              "array([[-3,  1],\n",
              "       [ 6, -4],\n",
              "       [-3,  4]])"
            ]
          },
          "execution_count": 5,
          "metadata": {},
          "output_type": "execute_result"
        }
      ],
      "source": [
        "A[1:,2:4]"
      ]
    },
    {
      "cell_type": "markdown",
      "metadata": {
        "id": "dOrauid1G99x"
      },
      "source": [
        "Usunięcie pierwszej kolumny:"
      ]
    },
    {
      "cell_type": "code",
      "execution_count": 7,
      "metadata": {
        "colab": {
          "base_uri": "https://localhost:8080/"
        },
        "id": "96WPVpaPG3Pq",
        "outputId": "333a8037-74b8-4fc3-ccd4-1b731ba714fb"
      },
      "outputs": [
        {
          "data": {
            "text/plain": [
              "array([[4.54236966, 1.23998542, 0.        ],\n",
              "       [3.36202576, 3.00580678, 0.        ],\n",
              "       [2.01559185, 2.24892501, 0.        ],\n",
              "       ...,\n",
              "       [7.89245031, 9.24737815, 1.        ],\n",
              "       [6.45515687, 5.09853926, 1.        ],\n",
              "       [8.38697159, 6.80380202, 1.        ]])"
            ]
          },
          "execution_count": 7,
          "metadata": {},
          "output_type": "execute_result"
        }
      ],
      "source": [
        "data_new = data_new[:,1:]\n",
        "data_new"
      ]
    },
    {
      "cell_type": "code",
      "execution_count": 8,
      "metadata": {
        "colab": {
          "base_uri": "https://localhost:8080/",
          "height": 430
        },
        "id": "9gWRCtFjIUQ_",
        "outputId": "b489231f-f811-48d1-c42f-465748bfdda2"
      },
      "outputs": [
        {
          "data": {
            "image/png": "[encoded data removed]",
            "text/plain": [
              "<Figure size 640x480 with 1 Axes>"
            ]
          },
          "metadata": {},
          "output_type": "display_data"
        }
      ],
      "source": [
        "plt.scatter(data_new[0:1000,0],data_new[0:1000,1], c='r', marker='x')\n",
        "plt.scatter(data_new[1000:,0],data_new[1000:,1], c='g', marker='1')\n",
        "plt.show()"
      ]
    },
    {
      "cell_type": "markdown",
      "metadata": {
        "id": "U5nnbvskPBSm"
      },
      "source": [
        "# Z wykorzystaniem biblioteki Keras"
      ]
    },
    {
      "cell_type": "code",
      "execution_count": 9,
      "metadata": {
        "id": "aPP1YFchNL1s"
      },
      "outputs": [],
      "source": [
        "import keras\n",
        "from keras.models import Sequential\n",
        "from keras.layers import Dense, Input"
      ]
    },
    {
      "cell_type": "markdown",
      "metadata": {
        "id": "YpJ1yWRjCYts"
      },
      "source": [
        "Definiujemy model:"
      ]
    },
    {
      "cell_type": "code",
      "execution_count": 10,
      "metadata": {
        "id": "E3BVIsJUgNgY"
      },
      "outputs": [],
      "source": [
        "model = Sequential()"
      ]
    },
    {
      "cell_type": "markdown",
      "metadata": {
        "id": "xJ5VvvDEgxXX"
      },
      "source": [
        "Dodajemy **jedną warstwę** (Dense) z **jednym neuronem** (units=1) z **biasem** (use_bias=True) i **sigmoidalną (unipolarna) funkcją aktywacji** (activation=\"sigmoid\"):"
      ]
    },
    {
      "cell_type": "code",
      "execution_count": 11,
      "metadata": {
        "id": "sL8RlEUQgxXZ"
      },
      "outputs": [],
      "source": [
        "#model.add(Dense(units = 120, use_bias=True, input_dim=2, activation = \"relu\"))\n",
        "#model.add(Dense(units = 240, use_bias=True, activation = \"relu\"))\n",
        "model.add(Input(shape=(2,)))\n",
        "model.add(Dense(units = 1, use_bias=True, activation = \"sigmoid\"))"
      ]
    },
    {
      "cell_type": "markdown",
      "metadata": {
        "id": "agSVhKFSgxXa"
      },
      "source": [
        "Definiujemy **optymalizator** i **błąd** (entropia krzyżowa). **Współczynnik uczenia = 0.1**"
      ]
    },
    {
      "cell_type": "code",
      "execution_count": 12,
      "metadata": {
        "id": "_Sx_X76wgxXc"
      },
      "outputs": [],
      "source": [
        "#opt = tf.keras.optimizers.Adam(learning_rate=0.1)\n",
        "opt = tf.keras.optimizers.SGD(learning_rate=0.1)"
      ]
    },
    {
      "cell_type": "code",
      "execution_count": 13,
      "metadata": {
        "id": "jiPyoEBlgxXf"
      },
      "outputs": [],
      "source": [
        "model.compile(loss='binary_crossentropy',optimizer=opt)"
      ]
    },
    {
      "cell_type": "markdown",
      "metadata": {
        "id": "A_Qy_dNlgxXh"
      },
      "source": [
        "Informacja o modelu:"
      ]
    },
    {
      "cell_type": "code",
      "execution_count": 14,
      "metadata": {
        "colab": {
          "base_uri": "https://localhost:8080/",
          "height": 170
        },
        "id": "Syddty_vgxXj",
        "outputId": "72f0a66b-97bf-4236-acb7-001d5d27dd9a"
      },
      "outputs": [
        {
          "name": "stdout",
          "output_type": "stream",
          "text": [
            "Model: \"sequential\"\n",
            "_________________________________________________________________\n",
            " Layer (type)                Output Shape              Param #   \n",
            "=================================================================\n",
            " dense (Dense)               (None, 1)                 3         \n",
            "                                                                 \n",
            "=================================================================\n",
            "Total params: 3 (12.00 Byte)\n",
            "Trainable params: 3 (12.00 Byte)\n",
            "Non-trainable params: 0 (0.00 Byte)\n",
            "_________________________________________________________________\n"
          ]
        }
      ],
      "source": [
        "model.summary()"
      ]
    },
    {
      "cell_type": "markdown",
      "metadata": {
        "id": "RFGzxUeshYRA"
      },
      "source": [
        "Przygotowanie danych:"
      ]
    },
    {
      "cell_type": "code",
      "execution_count": 16,
      "metadata": {
        "id": "7s1N38S2OC7P"
      },
      "outputs": [],
      "source": [
        "data_points = data_new[:,0:2]\n",
        "labels = data_new[:,2]"
      ]
    },
    {
      "cell_type": "markdown",
      "metadata": {
        "id": "1CnxkBlygxXo"
      },
      "source": [
        "Proces **uczenia**. Parametr **validation_split** określa jaka część zbioru uczącego jest wykorzystywana do validacji modelu."
      ]
    },
    {
      "cell_type": "code",
      "execution_count": 17,
      "metadata": {
        "colab": {
          "base_uri": "https://localhost:8080/"
        },
        "id": "vMbKPLNzgxXq",
        "outputId": "97d7efbb-6149-4cfb-9ab4-733e65eb2842"
      },
      "outputs": [
        {
          "name": "stdout",
          "output_type": "stream",
          "text": [
            "Epoch 1/300\n",
            "16/16 [==============================] - 0s 7ms/step - loss: 0.7386 - val_loss: 0.4869\n",
            "Epoch 2/300\n",
            "16/16 [==============================] - 0s 2ms/step - loss: 0.5697 - val_loss: 0.3647\n",
            "Epoch 3/300\n",
            "16/16 [==============================] - 0s 2ms/step - loss: 0.5232 - val_loss: 0.2718\n",
            "Epoch 4/300\n",
            "16/16 [==============================] - 0s 2ms/step - loss: 0.4837 - val_loss: 0.3854\n",
            "Epoch 5/300\n",
            "16/16 [==============================] - 0s 2ms/step - loss: 0.4475 - val_loss: 0.3628\n",
            "Epoch 6/300\n",
            "16/16 [==============================] - 0s 2ms/step - loss: 0.4167 - val_loss: 0.3935\n",
            "Epoch 7/300\n",
            "16/16 [==============================] - 0s 2ms/step - loss: 0.3905 - val_loss: 0.3211\n",
            "Epoch 8/300\n",
            "16/16 [==============================] - 0s 2ms/step - loss: 0.3674 - val_loss: 0.2297\n",
            "Epoch 9/300\n",
            "16/16 [==============================] - 0s 3ms/step - loss: 0.3464 - val_loss: 0.1924\n",
            "Epoch 10/300\n",
            "16/16 [==============================] - 0s 3ms/step - loss: 0.3270 - val_loss: 0.2818\n",
            "Epoch 11/300\n",
            "16/16 [==============================] - 0s 2ms/step - loss: 0.3101 - val_loss: 0.2354\n",
            "Epoch 12/300\n",
            "16/16 [==============================] - 0s 2ms/step - loss: 0.2947 - val_loss: 0.2497\n",
            "Epoch 13/300\n",
            "16/16 [==============================] - 0s 2ms/step - loss: 0.2808 - val_loss: 0.2299\n",
            "Epoch 14/300\n",
            "16/16 [==============================] - 0s 2ms/step - loss: 0.2686 - val_loss: 0.2064\n",
            "Epoch 15/300\n",
            "16/16 [==============================] - 0s 2ms/step - loss: 0.2568 - val_loss: 0.2242\n",
            "Epoch 16/300\n",
            "16/16 [==============================] - 0s 2ms/step - loss: 0.2461 - val_loss: 0.1625\n",
            "Epoch 17/300\n",
            "16/16 [==============================] - 0s 2ms/step - loss: 0.2378 - val_loss: 0.1916\n",
            "Epoch 18/300\n",
            "16/16 [==============================] - 0s 2ms/step - loss: 0.2275 - val_loss: 0.1736\n",
            "Epoch 19/300\n",
            "16/16 [==============================] - 0s 2ms/step - loss: 0.2197 - val_loss: 0.1790\n",
            "Epoch 20/300\n",
            "16/16 [==============================] - 0s 2ms/step - loss: 0.2116 - val_loss: 0.1572\n",
            "Epoch 21/300\n",
            "16/16 [==============================] - 0s 2ms/step - loss: 0.2048 - val_loss: 0.1747\n",
            "Epoch 22/300\n",
            "16/16 [==============================] - 0s 2ms/step - loss: 0.1983 - val_loss: 0.1628\n",
            "Epoch 23/300\n",
            "16/16 [==============================] - 0s 2ms/step - loss: 0.1914 - val_loss: 0.1366\n",
            "Epoch 24/300\n",
            "16/16 [==============================] - 0s 2ms/step - loss: 0.1864 - val_loss: 0.1566\n",
            "Epoch 25/300\n",
            "16/16 [==============================] - 0s 2ms/step - loss: 0.1816 - val_loss: 0.1442\n",
            "Epoch 26/300\n",
            "16/16 [==============================] - 0s 2ms/step - loss: 0.1758 - val_loss: 0.1320\n",
            "Epoch 27/300\n",
            "16/16 [==============================] - 0s 2ms/step - loss: 0.1717 - val_loss: 0.1351\n",
            "Epoch 28/300\n",
            "16/16 [==============================] - 0s 2ms/step - loss: 0.1666 - val_loss: 0.1362\n",
            "Epoch 29/300\n",
            "16/16 [==============================] - 0s 2ms/step - loss: 0.1626 - val_loss: 0.1431\n",
            "Epoch 30/300\n",
            "16/16 [==============================] - 0s 3ms/step - loss: 0.1589 - val_loss: 0.1374\n",
            "Epoch 31/300\n",
            "16/16 [==============================] - 0s 3ms/step - loss: 0.1554 - val_loss: 0.1330\n",
            "Epoch 32/300\n",
            "16/16 [==============================] - 0s 2ms/step - loss: 0.1515 - val_loss: 0.1381\n",
            "Epoch 33/300\n",
            "16/16 [==============================] - 0s 2ms/step - loss: 0.1478 - val_loss: 0.1060\n",
            "Epoch 34/300\n",
            "16/16 [==============================] - 0s 2ms/step - loss: 0.1452 - val_loss: 0.1187\n",
            "Epoch 35/300\n",
            "16/16 [==============================] - 0s 2ms/step - loss: 0.1417 - val_loss: 0.1410\n",
            "Epoch 36/300\n",
            "16/16 [==============================] - 0s 2ms/step - loss: 0.1392 - val_loss: 0.1221\n",
            "Epoch 37/300\n",
            "16/16 [==============================] - 0s 2ms/step - loss: 0.1355 - val_loss: 0.0921\n",
            "Epoch 38/300\n",
            "16/16 [==============================] - 0s 2ms/step - loss: 0.1332 - val_loss: 0.1372\n",
            "Epoch 39/300\n",
            "16/16 [==============================] - 0s 2ms/step - loss: 0.1305 - val_loss: 0.0963\n",
            "Epoch 40/300\n",
            "16/16 [==============================] - 0s 2ms/step - loss: 0.1284 - val_loss: 0.0953\n",
            "Epoch 41/300\n",
            "16/16 [==============================] - 0s 2ms/step - loss: 0.1260 - val_loss: 0.1146\n",
            "Epoch 42/300\n",
            "16/16 [==============================] - 0s 2ms/step - loss: 0.1235 - val_loss: 0.0947\n",
            "Epoch 43/300\n",
            "16/16 [==============================] - 0s 2ms/step - loss: 0.1216 - val_loss: 0.1007\n",
            "Epoch 44/300\n",
            "16/16 [==============================] - 0s 2ms/step - loss: 0.1196 - val_loss: 0.1028\n",
            "Epoch 45/300\n",
            "16/16 [==============================] - 0s 2ms/step - loss: 0.1177 - val_loss: 0.1025\n",
            "Epoch 46/300\n",
            "16/16 [==============================] - 0s 2ms/step - loss: 0.1157 - val_loss: 0.0979\n",
            "Epoch 47/300\n",
            "16/16 [==============================] - 0s 2ms/step - loss: 0.1135 - val_loss: 0.1148\n",
            "Epoch 48/300\n",
            "16/16 [==============================] - 0s 2ms/step - loss: 0.1121 - val_loss: 0.1082\n",
            "Epoch 49/300\n",
            "16/16 [==============================] - 0s 2ms/step - loss: 0.1104 - val_loss: 0.1035\n",
            "Epoch 50/300\n",
            "16/16 [==============================] - 0s 3ms/step - loss: 0.1087 - val_loss: 0.0992\n",
            "Epoch 51/300\n",
            "16/16 [==============================] - 0s 2ms/step - loss: 0.1072 - val_loss: 0.0926\n",
            "Epoch 52/300\n",
            "16/16 [==============================] - 0s 2ms/step - loss: 0.1056 - val_loss: 0.1044\n",
            "Epoch 53/300\n",
            "16/16 [==============================] - 0s 2ms/step - loss: 0.1043 - val_loss: 0.0900\n",
            "Epoch 54/300\n",
            "16/16 [==============================] - 0s 2ms/step - loss: 0.1028 - val_loss: 0.0989\n",
            "Epoch 55/300\n",
            "16/16 [==============================] - 0s 2ms/step - loss: 0.1012 - val_loss: 0.0881\n",
            "Epoch 56/300\n",
            "16/16 [==============================] - 0s 2ms/step - loss: 0.1000 - val_loss: 0.0876\n",
            "Epoch 57/300\n",
            "16/16 [==============================] - 0s 2ms/step - loss: 0.0987 - val_loss: 0.0901\n",
            "Epoch 58/300\n",
            "16/16 [==============================] - 0s 2ms/step - loss: 0.0973 - val_loss: 0.0831\n",
            "Epoch 59/300\n",
            "16/16 [==============================] - 0s 2ms/step - loss: 0.0962 - val_loss: 0.0850\n",
            "Epoch 60/300\n",
            "16/16 [==============================] - 0s 2ms/step - loss: 0.0950 - val_loss: 0.0888\n",
            "Epoch 61/300\n",
            "16/16 [==============================] - 0s 2ms/step - loss: 0.0936 - val_loss: 0.1008\n",
            "Epoch 62/300\n",
            "16/16 [==============================] - 0s 2ms/step - loss: 0.0928 - val_loss: 0.0919\n",
            "Epoch 63/300\n",
            "16/16 [==============================] - 0s 2ms/step - loss: 0.0916 - val_loss: 0.0808\n",
            "Epoch 64/300\n",
            "16/16 [==============================] - 0s 2ms/step - loss: 0.0904 - val_loss: 0.0914\n",
            "Epoch 65/300\n",
            "16/16 [==============================] - 0s 2ms/step - loss: 0.0894 - val_loss: 0.0877\n",
            "Epoch 66/300\n",
            "16/16 [==============================] - 0s 2ms/step - loss: 0.0883 - val_loss: 0.0953\n",
            "Epoch 67/300\n",
            "16/16 [==============================] - 0s 2ms/step - loss: 0.0875 - val_loss: 0.0814\n",
            "Epoch 68/300\n",
            "16/16 [==============================] - 0s 2ms/step - loss: 0.0864 - val_loss: 0.0780\n",
            "Epoch 69/300\n",
            "16/16 [==============================] - 0s 2ms/step - loss: 0.0856 - val_loss: 0.0818\n",
            "Epoch 70/300\n",
            "16/16 [==============================] - 0s 2ms/step - loss: 0.0846 - val_loss: 0.0797\n",
            "Epoch 71/300\n",
            "16/16 [==============================] - 0s 2ms/step - loss: 0.0838 - val_loss: 0.0754\n",
            "Epoch 72/300\n",
            "16/16 [==============================] - 0s 2ms/step - loss: 0.0831 - val_loss: 0.0768\n",
            "Epoch 73/300\n",
            "16/16 [==============================] - 0s 2ms/step - loss: 0.0821 - val_loss: 0.0784\n",
            "Epoch 74/300\n",
            "16/16 [==============================] - 0s 3ms/step - loss: 0.0812 - val_loss: 0.0763\n",
            "Epoch 75/300\n",
            "16/16 [==============================] - 0s 2ms/step - loss: 0.0805 - val_loss: 0.0766\n",
            "Epoch 76/300\n",
            "16/16 [==============================] - 0s 2ms/step - loss: 0.0796 - val_loss: 0.0730\n",
            "Epoch 77/300\n",
            "16/16 [==============================] - 0s 2ms/step - loss: 0.0788 - val_loss: 0.0857\n",
            "Epoch 78/300\n",
            "16/16 [==============================] - 0s 2ms/step - loss: 0.0783 - val_loss: 0.0745\n",
            "Epoch 79/300\n",
            "16/16 [==============================] - 0s 2ms/step - loss: 0.0773 - val_loss: 0.0681\n",
            "Epoch 80/300\n",
            "16/16 [==============================] - 0s 2ms/step - loss: 0.0766 - val_loss: 0.0782\n",
            "Epoch 81/300\n",
            "16/16 [==============================] - 0s 2ms/step - loss: 0.0757 - val_loss: 0.0597\n",
            "Epoch 82/300\n",
            "16/16 [==============================] - 0s 2ms/step - loss: 0.0756 - val_loss: 0.0703\n",
            "Epoch 83/300\n",
            "16/16 [==============================] - 0s 2ms/step - loss: 0.0746 - val_loss: 0.0732\n",
            "Epoch 84/300\n",
            "16/16 [==============================] - 0s 2ms/step - loss: 0.0740 - val_loss: 0.0720\n",
            "Epoch 85/300\n",
            "16/16 [==============================] - 0s 2ms/step - loss: 0.0733 - val_loss: 0.0646\n",
            "Epoch 86/300\n",
            "16/16 [==============================] - 0s 2ms/step - loss: 0.0727 - val_loss: 0.0769\n",
            "Epoch 87/300\n",
            "16/16 [==============================] - 0s 2ms/step - loss: 0.0722 - val_loss: 0.0682\n",
            "Epoch 88/300\n",
            "16/16 [==============================] - 0s 2ms/step - loss: 0.0717 - val_loss: 0.0669\n",
            "Epoch 89/300\n",
            "16/16 [==============================] - 0s 2ms/step - loss: 0.0710 - val_loss: 0.0676\n",
            "Epoch 90/300\n",
            "16/16 [==============================] - 0s 2ms/step - loss: 0.0704 - val_loss: 0.0726\n",
            "Epoch 91/300\n",
            "16/16 [==============================] - 0s 2ms/step - loss: 0.0698 - val_loss: 0.0671\n",
            "Epoch 92/300\n",
            "16/16 [==============================] - 0s 2ms/step - loss: 0.0692 - val_loss: 0.0704\n",
            "Epoch 93/300\n",
            "16/16 [==============================] - 0s 2ms/step - loss: 0.0687 - val_loss: 0.0678\n",
            "Epoch 94/300\n",
            "16/16 [==============================] - 0s 3ms/step - loss: 0.0682 - val_loss: 0.0679\n",
            "Epoch 95/300\n",
            "16/16 [==============================] - 0s 2ms/step - loss: 0.0676 - val_loss: 0.0662\n",
            "Epoch 96/300\n",
            "16/16 [==============================] - 0s 2ms/step - loss: 0.0671 - val_loss: 0.0627\n",
            "Epoch 97/300\n",
            "16/16 [==============================] - 0s 2ms/step - loss: 0.0666 - val_loss: 0.0665\n",
            "Epoch 98/300\n",
            "16/16 [==============================] - 0s 2ms/step - loss: 0.0661 - val_loss: 0.0647\n",
            "Epoch 99/300\n",
            "16/16 [==============================] - 0s 2ms/step - loss: 0.0658 - val_loss: 0.0673\n",
            "Epoch 100/300\n",
            "16/16 [==============================] - 0s 2ms/step - loss: 0.0653 - val_loss: 0.0649\n",
            "Epoch 101/300\n",
            "16/16 [==============================] - 0s 2ms/step - loss: 0.0647 - val_loss: 0.0711\n",
            "Epoch 102/300\n",
            "16/16 [==============================] - 0s 2ms/step - loss: 0.0643 - val_loss: 0.0654\n",
            "Epoch 103/300\n",
            "16/16 [==============================] - 0s 2ms/step - loss: 0.0639 - val_loss: 0.0638\n",
            "Epoch 104/300\n",
            "16/16 [==============================] - 0s 2ms/step - loss: 0.0634 - val_loss: 0.0584\n",
            "Epoch 105/300\n",
            "16/16 [==============================] - 0s 2ms/step - loss: 0.0629 - val_loss: 0.0582\n",
            "Epoch 106/300\n",
            "16/16 [==============================] - 0s 2ms/step - loss: 0.0626 - val_loss: 0.0671\n",
            "Epoch 107/300\n",
            "16/16 [==============================] - 0s 2ms/step - loss: 0.0620 - val_loss: 0.0619\n",
            "Epoch 108/300\n",
            "16/16 [==============================] - 0s 2ms/step - loss: 0.0615 - val_loss: 0.0680\n",
            "Epoch 109/300\n",
            "16/16 [==============================] - 0s 2ms/step - loss: 0.0613 - val_loss: 0.0609\n",
            "Epoch 110/300\n",
            "16/16 [==============================] - 0s 2ms/step - loss: 0.0607 - val_loss: 0.0596\n",
            "Epoch 111/300\n",
            "16/16 [==============================] - 0s 2ms/step - loss: 0.0605 - val_loss: 0.0627\n",
            "Epoch 112/300\n",
            "16/16 [==============================] - 0s 2ms/step - loss: 0.0599 - val_loss: 0.0686\n",
            "Epoch 113/300\n",
            "16/16 [==============================] - 0s 2ms/step - loss: 0.0597 - val_loss: 0.0671\n",
            "Epoch 114/300\n",
            "16/16 [==============================] - 0s 2ms/step - loss: 0.0594 - val_loss: 0.0595\n",
            "Epoch 115/300\n",
            "16/16 [==============================] - 0s 2ms/step - loss: 0.0589 - val_loss: 0.0631\n",
            "Epoch 116/300\n",
            "16/16 [==============================] - 0s 3ms/step - loss: 0.0585 - val_loss: 0.0543\n",
            "Epoch 117/300\n",
            "16/16 [==============================] - 0s 2ms/step - loss: 0.0581 - val_loss: 0.0602\n",
            "Epoch 118/300\n",
            "16/16 [==============================] - 0s 2ms/step - loss: 0.0579 - val_loss: 0.0591\n",
            "Epoch 119/300\n",
            "16/16 [==============================] - 0s 2ms/step - loss: 0.0576 - val_loss: 0.0565\n",
            "Epoch 120/300\n",
            "16/16 [==============================] - 0s 2ms/step - loss: 0.0572 - val_loss: 0.0589\n",
            "Epoch 121/300\n",
            "16/16 [==============================] - 0s 2ms/step - loss: 0.0568 - val_loss: 0.0567\n",
            "Epoch 122/300\n",
            "16/16 [==============================] - 0s 2ms/step - loss: 0.0564 - val_loss: 0.0546\n",
            "Epoch 123/300\n",
            "16/16 [==============================] - 0s 2ms/step - loss: 0.0562 - val_loss: 0.0523\n",
            "Epoch 124/300\n",
            "16/16 [==============================] - 0s 2ms/step - loss: 0.0558 - val_loss: 0.0551\n",
            "Epoch 125/300\n",
            "16/16 [==============================] - 0s 2ms/step - loss: 0.0556 - val_loss: 0.0553\n",
            "Epoch 126/300\n",
            "16/16 [==============================] - 0s 2ms/step - loss: 0.0551 - val_loss: 0.0542\n",
            "Epoch 127/300\n",
            "16/16 [==============================] - 0s 2ms/step - loss: 0.0549 - val_loss: 0.0577\n",
            "Epoch 128/300\n",
            "16/16 [==============================] - 0s 2ms/step - loss: 0.0544 - val_loss: 0.0625\n",
            "Epoch 129/300\n",
            "16/16 [==============================] - 0s 2ms/step - loss: 0.0542 - val_loss: 0.0538\n",
            "Epoch 130/300\n",
            "16/16 [==============================] - 0s 2ms/step - loss: 0.0540 - val_loss: 0.0510\n",
            "Epoch 131/300\n",
            "16/16 [==============================] - 0s 2ms/step - loss: 0.0537 - val_loss: 0.0563\n",
            "Epoch 132/300\n",
            "16/16 [==============================] - 0s 2ms/step - loss: 0.0534 - val_loss: 0.0579\n",
            "Epoch 133/300\n",
            "16/16 [==============================] - 0s 2ms/step - loss: 0.0531 - val_loss: 0.0570\n",
            "Epoch 134/300\n",
            "16/16 [==============================] - 0s 2ms/step - loss: 0.0528 - val_loss: 0.0555\n",
            "Epoch 135/300\n",
            "16/16 [==============================] - 0s 3ms/step - loss: 0.0525 - val_loss: 0.0560\n",
            "Epoch 136/300\n",
            "16/16 [==============================] - 0s 3ms/step - loss: 0.0523 - val_loss: 0.0592\n",
            "Epoch 137/300\n",
            "16/16 [==============================] - 0s 2ms/step - loss: 0.0520 - val_loss: 0.0547\n",
            "Epoch 138/300\n",
            "16/16 [==============================] - 0s 2ms/step - loss: 0.0517 - val_loss: 0.0500\n",
            "Epoch 139/300\n",
            "16/16 [==============================] - 0s 2ms/step - loss: 0.0514 - val_loss: 0.0502\n",
            "Epoch 140/300\n",
            "16/16 [==============================] - 0s 2ms/step - loss: 0.0512 - val_loss: 0.0519\n",
            "Epoch 141/300\n",
            "16/16 [==============================] - 0s 2ms/step - loss: 0.0509 - val_loss: 0.0514\n",
            "Epoch 142/300\n",
            "16/16 [==============================] - 0s 2ms/step - loss: 0.0507 - val_loss: 0.0523\n",
            "Epoch 143/300\n",
            "16/16 [==============================] - 0s 2ms/step - loss: 0.0504 - val_loss: 0.0489\n",
            "Epoch 144/300\n",
            "16/16 [==============================] - 0s 2ms/step - loss: 0.0502 - val_loss: 0.0516\n",
            "Epoch 145/300\n",
            "16/16 [==============================] - 0s 2ms/step - loss: 0.0500 - val_loss: 0.0532\n",
            "Epoch 146/300\n",
            "16/16 [==============================] - 0s 2ms/step - loss: 0.0497 - val_loss: 0.0557\n",
            "Epoch 147/300\n",
            "16/16 [==============================] - 0s 2ms/step - loss: 0.0494 - val_loss: 0.0508\n",
            "Epoch 148/300\n",
            "16/16 [==============================] - 0s 2ms/step - loss: 0.0492 - val_loss: 0.0549\n",
            "Epoch 149/300\n",
            "16/16 [==============================] - 0s 2ms/step - loss: 0.0490 - val_loss: 0.0492\n",
            "Epoch 150/300\n",
            "16/16 [==============================] - 0s 2ms/step - loss: 0.0488 - val_loss: 0.0539\n",
            "Epoch 151/300\n",
            "16/16 [==============================] - 0s 2ms/step - loss: 0.0485 - val_loss: 0.0462\n",
            "Epoch 152/300\n",
            "16/16 [==============================] - 0s 2ms/step - loss: 0.0484 - val_loss: 0.0505\n",
            "Epoch 153/300\n",
            "16/16 [==============================] - 0s 2ms/step - loss: 0.0481 - val_loss: 0.0474\n",
            "Epoch 154/300\n",
            "16/16 [==============================] - 0s 2ms/step - loss: 0.0479 - val_loss: 0.0519\n",
            "Epoch 155/300\n",
            "16/16 [==============================] - 0s 3ms/step - loss: 0.0477 - val_loss: 0.0539\n",
            "Epoch 156/300\n",
            "16/16 [==============================] - 0s 2ms/step - loss: 0.0475 - val_loss: 0.0522\n",
            "Epoch 157/300\n",
            "16/16 [==============================] - 0s 2ms/step - loss: 0.0472 - val_loss: 0.0460\n",
            "Epoch 158/300\n",
            "16/16 [==============================] - 0s 2ms/step - loss: 0.0471 - val_loss: 0.0487\n",
            "Epoch 159/300\n",
            "16/16 [==============================] - 0s 2ms/step - loss: 0.0468 - val_loss: 0.0515\n",
            "Epoch 160/300\n",
            "16/16 [==============================] - 0s 2ms/step - loss: 0.0466 - val_loss: 0.0475\n",
            "Epoch 161/300\n",
            "16/16 [==============================] - 0s 2ms/step - loss: 0.0464 - val_loss: 0.0496\n",
            "Epoch 162/300\n",
            "16/16 [==============================] - 0s 2ms/step - loss: 0.0462 - val_loss: 0.0459\n",
            "Epoch 163/300\n",
            "16/16 [==============================] - 0s 2ms/step - loss: 0.0460 - val_loss: 0.0476\n",
            "Epoch 164/300\n",
            "16/16 [==============================] - 0s 2ms/step - loss: 0.0458 - val_loss: 0.0494\n",
            "Epoch 165/300\n",
            "16/16 [==============================] - 0s 2ms/step - loss: 0.0457 - val_loss: 0.0504\n",
            "Epoch 166/300\n",
            "16/16 [==============================] - 0s 2ms/step - loss: 0.0454 - val_loss: 0.0515\n",
            "Epoch 167/300\n",
            "16/16 [==============================] - 0s 2ms/step - loss: 0.0454 - val_loss: 0.0490\n",
            "Epoch 168/300\n",
            "16/16 [==============================] - 0s 2ms/step - loss: 0.0450 - val_loss: 0.0508\n",
            "Epoch 169/300\n",
            "16/16 [==============================] - 0s 2ms/step - loss: 0.0448 - val_loss: 0.0463\n",
            "Epoch 170/300\n",
            "16/16 [==============================] - 0s 2ms/step - loss: 0.0447 - val_loss: 0.0490\n",
            "Epoch 171/300\n",
            "16/16 [==============================] - 0s 2ms/step - loss: 0.0444 - val_loss: 0.0441\n",
            "Epoch 172/300\n",
            "16/16 [==============================] - 0s 2ms/step - loss: 0.0443 - val_loss: 0.0490\n",
            "Epoch 173/300\n",
            "16/16 [==============================] - 0s 2ms/step - loss: 0.0441 - val_loss: 0.0454\n",
            "Epoch 174/300\n",
            "16/16 [==============================] - 0s 2ms/step - loss: 0.0439 - val_loss: 0.0484\n",
            "Epoch 175/300\n",
            "16/16 [==============================] - 0s 3ms/step - loss: 0.0437 - val_loss: 0.0476\n",
            "Epoch 176/300\n",
            "16/16 [==============================] - 0s 2ms/step - loss: 0.0436 - val_loss: 0.0455\n",
            "Epoch 177/300\n",
            "16/16 [==============================] - 0s 2ms/step - loss: 0.0434 - val_loss: 0.0507\n",
            "Epoch 178/300\n",
            "16/16 [==============================] - 0s 2ms/step - loss: 0.0434 - val_loss: 0.0475\n",
            "Epoch 179/300\n",
            "16/16 [==============================] - 0s 2ms/step - loss: 0.0431 - val_loss: 0.0446\n",
            "Epoch 180/300\n",
            "16/16 [==============================] - 0s 2ms/step - loss: 0.0430 - val_loss: 0.0469\n",
            "Epoch 181/300\n",
            "16/16 [==============================] - 0s 2ms/step - loss: 0.0428 - val_loss: 0.0432\n",
            "Epoch 182/300\n",
            "16/16 [==============================] - 0s 2ms/step - loss: 0.0426 - val_loss: 0.0411\n",
            "Epoch 183/300\n",
            "16/16 [==============================] - 0s 2ms/step - loss: 0.0425 - val_loss: 0.0462\n",
            "Epoch 184/300\n",
            "16/16 [==============================] - 0s 2ms/step - loss: 0.0423 - val_loss: 0.0457\n",
            "Epoch 185/300\n",
            "16/16 [==============================] - 0s 2ms/step - loss: 0.0420 - val_loss: 0.0498\n",
            "Epoch 186/300\n",
            "16/16 [==============================] - 0s 2ms/step - loss: 0.0420 - val_loss: 0.0448\n",
            "Epoch 187/300\n",
            "16/16 [==============================] - 0s 2ms/step - loss: 0.0419 - val_loss: 0.0431\n",
            "Epoch 188/300\n",
            "16/16 [==============================] - 0s 2ms/step - loss: 0.0417 - val_loss: 0.0447\n",
            "Epoch 189/300\n",
            "16/16 [==============================] - 0s 2ms/step - loss: 0.0415 - val_loss: 0.0453\n",
            "Epoch 190/300\n",
            "16/16 [==============================] - 0s 2ms/step - loss: 0.0414 - val_loss: 0.0453\n",
            "Epoch 191/300\n",
            "16/16 [==============================] - 0s 2ms/step - loss: 0.0411 - val_loss: 0.0439\n",
            "Epoch 192/300\n",
            "16/16 [==============================] - 0s 2ms/step - loss: 0.0410 - val_loss: 0.0447\n",
            "Epoch 193/300\n",
            "16/16 [==============================] - 0s 3ms/step - loss: 0.0409 - val_loss: 0.0452\n",
            "Epoch 194/300\n",
            "16/16 [==============================] - 0s 2ms/step - loss: 0.0407 - val_loss: 0.0456\n",
            "Epoch 195/300\n",
            "16/16 [==============================] - 0s 2ms/step - loss: 0.0406 - val_loss: 0.0427\n",
            "Epoch 196/300\n",
            "16/16 [==============================] - 0s 2ms/step - loss: 0.0404 - val_loss: 0.0441\n",
            "Epoch 197/300\n",
            "16/16 [==============================] - 0s 2ms/step - loss: 0.0404 - val_loss: 0.0441\n",
            "Epoch 198/300\n",
            "16/16 [==============================] - 0s 2ms/step - loss: 0.0402 - val_loss: 0.0457\n",
            "Epoch 199/300\n",
            "16/16 [==============================] - 0s 2ms/step - loss: 0.0401 - val_loss: 0.0449\n",
            "Epoch 200/300\n",
            "16/16 [==============================] - 0s 2ms/step - loss: 0.0399 - val_loss: 0.0468\n",
            "Epoch 201/300\n",
            "16/16 [==============================] - 0s 2ms/step - loss: 0.0398 - val_loss: 0.0439\n",
            "Epoch 202/300\n",
            "16/16 [==============================] - 0s 2ms/step - loss: 0.0397 - val_loss: 0.0446\n",
            "Epoch 203/300\n",
            "16/16 [==============================] - 0s 2ms/step - loss: 0.0396 - val_loss: 0.0423\n",
            "Epoch 204/300\n",
            "16/16 [==============================] - 0s 2ms/step - loss: 0.0394 - val_loss: 0.0419\n",
            "Epoch 205/300\n",
            "16/16 [==============================] - 0s 2ms/step - loss: 0.0392 - val_loss: 0.0432\n",
            "Epoch 206/300\n",
            "16/16 [==============================] - 0s 2ms/step - loss: 0.0391 - val_loss: 0.0398\n",
            "Epoch 207/300\n",
            "16/16 [==============================] - 0s 2ms/step - loss: 0.0390 - val_loss: 0.0433\n",
            "Epoch 208/300\n",
            "16/16 [==============================] - 0s 2ms/step - loss: 0.0388 - val_loss: 0.0413\n",
            "Epoch 209/300\n",
            "16/16 [==============================] - 0s 2ms/step - loss: 0.0387 - val_loss: 0.0421\n",
            "Epoch 210/300\n",
            "16/16 [==============================] - 0s 2ms/step - loss: 0.0387 - val_loss: 0.0411\n",
            "Epoch 211/300\n",
            "16/16 [==============================] - 0s 2ms/step - loss: 0.0385 - val_loss: 0.0444\n",
            "Epoch 212/300\n",
            "16/16 [==============================] - 0s 2ms/step - loss: 0.0384 - val_loss: 0.0413\n",
            "Epoch 213/300\n",
            "16/16 [==============================] - 0s 2ms/step - loss: 0.0383 - val_loss: 0.0417\n",
            "Epoch 214/300\n",
            "16/16 [==============================] - 0s 2ms/step - loss: 0.0381 - val_loss: 0.0414\n",
            "Epoch 215/300\n",
            "16/16 [==============================] - 0s 2ms/step - loss: 0.0380 - val_loss: 0.0415\n",
            "Epoch 216/300\n",
            "16/16 [==============================] - 0s 2ms/step - loss: 0.0379 - val_loss: 0.0425\n",
            "Epoch 217/300\n",
            "16/16 [==============================] - 0s 2ms/step - loss: 0.0378 - val_loss: 0.0407\n",
            "Epoch 218/300\n",
            "16/16 [==============================] - 0s 2ms/step - loss: 0.0376 - val_loss: 0.0415\n",
            "Epoch 219/300\n",
            "16/16 [==============================] - 0s 2ms/step - loss: 0.0376 - val_loss: 0.0436\n",
            "Epoch 220/300\n",
            "16/16 [==============================] - 0s 2ms/step - loss: 0.0374 - val_loss: 0.0441\n",
            "Epoch 221/300\n",
            "16/16 [==============================] - 0s 2ms/step - loss: 0.0373 - val_loss: 0.0410\n",
            "Epoch 222/300\n",
            "16/16 [==============================] - 0s 2ms/step - loss: 0.0372 - val_loss: 0.0419\n",
            "Epoch 223/300\n",
            "16/16 [==============================] - 0s 2ms/step - loss: 0.0370 - val_loss: 0.0455\n",
            "Epoch 224/300\n",
            "16/16 [==============================] - 0s 2ms/step - loss: 0.0370 - val_loss: 0.0432\n",
            "Epoch 225/300\n",
            "16/16 [==============================] - 0s 2ms/step - loss: 0.0369 - val_loss: 0.0401\n",
            "Epoch 226/300\n",
            "16/16 [==============================] - 0s 2ms/step - loss: 0.0367 - val_loss: 0.0425\n",
            "Epoch 227/300\n",
            "16/16 [==============================] - 0s 3ms/step - loss: 0.0367 - val_loss: 0.0400\n",
            "Epoch 228/300\n",
            "16/16 [==============================] - 0s 2ms/step - loss: 0.0365 - val_loss: 0.0401\n",
            "Epoch 229/300\n",
            "16/16 [==============================] - 0s 2ms/step - loss: 0.0365 - val_loss: 0.0425\n",
            "Epoch 230/300\n",
            "16/16 [==============================] - 0s 2ms/step - loss: 0.0364 - val_loss: 0.0423\n",
            "Epoch 231/300\n",
            "16/16 [==============================] - 0s 2ms/step - loss: 0.0362 - val_loss: 0.0419\n",
            "Epoch 232/300\n",
            "16/16 [==============================] - 0s 2ms/step - loss: 0.0362 - val_loss: 0.0409\n",
            "Epoch 233/300\n",
            "16/16 [==============================] - 0s 2ms/step - loss: 0.0360 - val_loss: 0.0411\n",
            "Epoch 234/300\n",
            "16/16 [==============================] - 0s 2ms/step - loss: 0.0359 - val_loss: 0.0383\n",
            "Epoch 235/300\n",
            "16/16 [==============================] - 0s 2ms/step - loss: 0.0358 - val_loss: 0.0389\n",
            "Epoch 236/300\n",
            "16/16 [==============================] - 0s 2ms/step - loss: 0.0356 - val_loss: 0.0430\n",
            "Epoch 237/300\n",
            "16/16 [==============================] - 0s 2ms/step - loss: 0.0356 - val_loss: 0.0417\n",
            "Epoch 238/300\n",
            "16/16 [==============================] - 0s 2ms/step - loss: 0.0355 - val_loss: 0.0407\n",
            "Epoch 239/300\n",
            "16/16 [==============================] - 0s 2ms/step - loss: 0.0354 - val_loss: 0.0411\n",
            "Epoch 240/300\n",
            "16/16 [==============================] - 0s 2ms/step - loss: 0.0353 - val_loss: 0.0414\n",
            "Epoch 241/300\n",
            "16/16 [==============================] - 0s 2ms/step - loss: 0.0352 - val_loss: 0.0399\n",
            "Epoch 242/300\n",
            "16/16 [==============================] - 0s 2ms/step - loss: 0.0351 - val_loss: 0.0390\n",
            "Epoch 243/300\n",
            "16/16 [==============================] - 0s 3ms/step - loss: 0.0350 - val_loss: 0.0388\n",
            "Epoch 244/300\n",
            "16/16 [==============================] - 0s 2ms/step - loss: 0.0349 - val_loss: 0.0395\n",
            "Epoch 245/300\n",
            "16/16 [==============================] - 0s 2ms/step - loss: 0.0348 - val_loss: 0.0410\n",
            "Epoch 246/300\n",
            "16/16 [==============================] - 0s 2ms/step - loss: 0.0347 - val_loss: 0.0395\n",
            "Epoch 247/300\n",
            "16/16 [==============================] - 0s 2ms/step - loss: 0.0346 - val_loss: 0.0396\n",
            "Epoch 248/300\n",
            "16/16 [==============================] - 0s 2ms/step - loss: 0.0345 - val_loss: 0.0397\n",
            "Epoch 249/300\n",
            "16/16 [==============================] - 0s 2ms/step - loss: 0.0344 - val_loss: 0.0371\n",
            "Epoch 250/300\n",
            "16/16 [==============================] - 0s 2ms/step - loss: 0.0344 - val_loss: 0.0394\n",
            "Epoch 251/300\n",
            "16/16 [==============================] - 0s 2ms/step - loss: 0.0342 - val_loss: 0.0391\n",
            "Epoch 252/300\n",
            "16/16 [==============================] - 0s 2ms/step - loss: 0.0341 - val_loss: 0.0378\n",
            "Epoch 253/300\n",
            "16/16 [==============================] - 0s 2ms/step - loss: 0.0340 - val_loss: 0.0406\n",
            "Epoch 254/300\n",
            "16/16 [==============================] - 0s 2ms/step - loss: 0.0340 - val_loss: 0.0388\n",
            "Epoch 255/300\n",
            "16/16 [==============================] - 0s 2ms/step - loss: 0.0339 - val_loss: 0.0390\n",
            "Epoch 256/300\n",
            "16/16 [==============================] - 0s 2ms/step - loss: 0.0338 - val_loss: 0.0392\n",
            "Epoch 257/300\n",
            "16/16 [==============================] - 0s 2ms/step - loss: 0.0337 - val_loss: 0.0384\n",
            "Epoch 258/300\n",
            "16/16 [==============================] - 0s 2ms/step - loss: 0.0336 - val_loss: 0.0396\n",
            "Epoch 259/300\n",
            "16/16 [==============================] - 0s 2ms/step - loss: 0.0335 - val_loss: 0.0382\n",
            "Epoch 260/300\n",
            "16/16 [==============================] - 0s 3ms/step - loss: 0.0334 - val_loss: 0.0376\n",
            "Epoch 261/300\n",
            "16/16 [==============================] - 0s 2ms/step - loss: 0.0333 - val_loss: 0.0396\n",
            "Epoch 262/300\n",
            "16/16 [==============================] - 0s 2ms/step - loss: 0.0333 - val_loss: 0.0387\n",
            "Epoch 263/300\n",
            "16/16 [==============================] - 0s 2ms/step - loss: 0.0332 - val_loss: 0.0380\n",
            "Epoch 264/300\n",
            "16/16 [==============================] - 0s 2ms/step - loss: 0.0331 - val_loss: 0.0358\n",
            "Epoch 265/300\n",
            "16/16 [==============================] - 0s 2ms/step - loss: 0.0330 - val_loss: 0.0381\n",
            "Epoch 266/300\n",
            "16/16 [==============================] - 0s 2ms/step - loss: 0.0330 - val_loss: 0.0381\n",
            "Epoch 267/300\n",
            "16/16 [==============================] - 0s 2ms/step - loss: 0.0329 - val_loss: 0.0371\n",
            "Epoch 268/300\n",
            "16/16 [==============================] - 0s 2ms/step - loss: 0.0327 - val_loss: 0.0392\n",
            "Epoch 269/300\n",
            "16/16 [==============================] - 0s 2ms/step - loss: 0.0327 - val_loss: 0.0362\n",
            "Epoch 270/300\n",
            "16/16 [==============================] - 0s 2ms/step - loss: 0.0326 - val_loss: 0.0371\n",
            "Epoch 271/300\n",
            "16/16 [==============================] - 0s 2ms/step - loss: 0.0326 - val_loss: 0.0366\n",
            "Epoch 272/300\n",
            "16/16 [==============================] - 0s 2ms/step - loss: 0.0324 - val_loss: 0.0371\n",
            "Epoch 273/300\n",
            "16/16 [==============================] - 0s 2ms/step - loss: 0.0323 - val_loss: 0.0387\n",
            "Epoch 274/300\n",
            "16/16 [==============================] - 0s 2ms/step - loss: 0.0323 - val_loss: 0.0376\n",
            "Epoch 275/300\n",
            "16/16 [==============================] - 0s 3ms/step - loss: 0.0323 - val_loss: 0.0399\n",
            "Epoch 276/300\n",
            "16/16 [==============================] - 0s 2ms/step - loss: 0.0322 - val_loss: 0.0378\n",
            "Epoch 277/300\n",
            "16/16 [==============================] - 0s 2ms/step - loss: 0.0321 - val_loss: 0.0366\n",
            "Epoch 278/300\n",
            "16/16 [==============================] - 0s 2ms/step - loss: 0.0320 - val_loss: 0.0354\n",
            "Epoch 279/300\n",
            "16/16 [==============================] - 0s 2ms/step - loss: 0.0319 - val_loss: 0.0364\n",
            "Epoch 280/300\n",
            "16/16 [==============================] - 0s 2ms/step - loss: 0.0318 - val_loss: 0.0398\n",
            "Epoch 281/300\n",
            "16/16 [==============================] - 0s 2ms/step - loss: 0.0318 - val_loss: 0.0368\n",
            "Epoch 282/300\n",
            "16/16 [==============================] - 0s 2ms/step - loss: 0.0317 - val_loss: 0.0347\n",
            "Epoch 283/300\n",
            "16/16 [==============================] - 0s 2ms/step - loss: 0.0317 - val_loss: 0.0354\n",
            "Epoch 284/300\n",
            "16/16 [==============================] - 0s 2ms/step - loss: 0.0316 - val_loss: 0.0368\n",
            "Epoch 285/300\n",
            "16/16 [==============================] - 0s 2ms/step - loss: 0.0315 - val_loss: 0.0364\n",
            "Epoch 286/300\n",
            "16/16 [==============================] - 0s 2ms/step - loss: 0.0314 - val_loss: 0.0363\n",
            "Epoch 287/300\n",
            "16/16 [==============================] - 0s 2ms/step - loss: 0.0313 - val_loss: 0.0369\n",
            "Epoch 288/300\n",
            "16/16 [==============================] - 0s 2ms/step - loss: 0.0313 - val_loss: 0.0361\n",
            "Epoch 289/300\n",
            "16/16 [==============================] - 0s 2ms/step - loss: 0.0313 - val_loss: 0.0372\n",
            "Epoch 290/300\n",
            "16/16 [==============================] - 0s 2ms/step - loss: 0.0311 - val_loss: 0.0348\n",
            "Epoch 291/300\n",
            "16/16 [==============================] - 0s 2ms/step - loss: 0.0311 - val_loss: 0.0356\n",
            "Epoch 292/300\n",
            "16/16 [==============================] - 0s 2ms/step - loss: 0.0310 - val_loss: 0.0360\n",
            "Epoch 293/300\n",
            "16/16 [==============================] - 0s 2ms/step - loss: 0.0309 - val_loss: 0.0351\n",
            "Epoch 294/300\n",
            "16/16 [==============================] - 0s 2ms/step - loss: 0.0308 - val_loss: 0.0365\n",
            "Epoch 295/300\n",
            "16/16 [==============================] - 0s 2ms/step - loss: 0.0308 - val_loss: 0.0365\n",
            "Epoch 296/300\n",
            "16/16 [==============================] - 0s 2ms/step - loss: 0.0307 - val_loss: 0.0370\n",
            "Epoch 297/300\n",
            "16/16 [==============================] - 0s 2ms/step - loss: 0.0307 - val_loss: 0.0357\n",
            "Epoch 298/300\n",
            "16/16 [==============================] - 0s 2ms/step - loss: 0.0306 - val_loss: 0.0376\n",
            "Epoch 299/300\n",
            "16/16 [==============================] - 0s 2ms/step - loss: 0.0305 - val_loss: 0.0350\n",
            "Epoch 300/300\n",
            "16/16 [==============================] - 0s 2ms/step - loss: 0.0304 - val_loss: 0.0357\n"
          ]
        }
      ],
      "source": [
        "epochs = 300\n",
        "h = model.fit(data_points,labels, verbose=1, epochs=epochs, batch_size=100, validation_split=0.2)"
      ]
    },
    {
      "cell_type": "code",
      "execution_count": 20,
      "metadata": {
        "id": "pfr7_xx1gxXr"
      },
      "outputs": [],
      "source": [
        "Loss = h.history['loss']\n",
        "Val_Loss = h.history['val_loss']"
      ]
    },
    {
      "cell_type": "markdown",
      "metadata": {
        "id": "xpCka5FcgxXt"
      },
      "source": [
        "Sprawdźmy jakie są **wartości wag**:"
      ]
    },
    {
      "cell_type": "code",
      "execution_count": 18,
      "metadata": {
        "colab": {
          "base_uri": "https://localhost:8080/"
        },
        "id": "qCGKNS8PgxXu",
        "outputId": "cdd12a01-4140-4cbd-b952-ecec3f811ac4"
      },
      "outputs": [
        {
          "name": "stdout",
          "output_type": "stream",
          "text": [
            "[[0.9825454]\n",
            " [1.3601024]]\n",
            "[-10.534951]\n"
          ]
        }
      ],
      "source": [
        "weights = model.get_weights()\n",
        "\n",
        "print(weights[0])\n",
        "print(weights[1])    #bias"
      ]
    },
    {
      "cell_type": "code",
      "execution_count": 21,
      "metadata": {
        "colab": {
          "base_uri": "https://localhost:8080/",
          "height": 430
        },
        "id": "YrobETsUgxXw",
        "outputId": "ce507e25-61e8-4dc7-9c9c-6710ee4bcaa9"
      },
      "outputs": [
        {
          "data": {
            "image/png": "[encoded data removed]",
            "text/plain": [
              "<Figure size 640x480 with 1 Axes>"
            ]
          },
          "metadata": {},
          "output_type": "display_data"
        }
      ],
      "source": [
        "plt.plot(Loss)\n",
        "plt.plot(Val_Loss)\n",
        "plt.show()"
      ]
    },
    {
      "cell_type": "markdown",
      "metadata": {
        "id": "xOZDmklBil6v"
      },
      "source": [
        "Sprawdzamy działanie modelu dla punktu o współrzędnych **x** i **y**:"
      ]
    },
    {
      "cell_type": "code",
      "execution_count": 22,
      "metadata": {
        "colab": {
          "base_uri": "https://localhost:8080/",
          "height": 465
        },
        "id": "E92wwVxsn094",
        "outputId": "647ed310-d7c7-41cb-e292-08570f820ca2"
      },
      "outputs": [
        {
          "data": {
            "image/png": "[encoded data removed]",
            "text/plain": [
              "<Figure size 640x480 with 1 Axes>"
            ]
          },
          "metadata": {},
          "output_type": "display_data"
        },
        {
          "name": "stdout",
          "output_type": "stream",
          "text": [
            "1/1 [==============================] - 0s 64ms/step\n"
          ]
        },
        {
          "data": {
            "text/plain": [
              "array([[0.62204486]], dtype=float32)"
            ]
          },
          "execution_count": 22,
          "metadata": {},
          "output_type": "execute_result"
        }
      ],
      "source": [
        "x=5.0\n",
        "y=4.5\n",
        "plt.scatter(data_new[0:1000,0],data_new[0:1000,1], c='r', marker='x')\n",
        "plt.scatter(data_new[1000:,0],data_new[1000:,1], c='g', marker='1')\n",
        "plt.scatter(x,y,c='b', marker='s')\n",
        "plt.show()\n",
        "model.predict(np.array([[x,y]]))"
      ]
    },
    {
      "cell_type": "markdown",
      "metadata": {
        "id": "CcWbkQj6PJjV"
      },
      "source": [
        "# Z wykorzystaniem tf.gradient (gradient liczony wprost)"
      ]
    },
    {
      "cell_type": "markdown",
      "metadata": {
        "id": "zyFC3my_Piac"
      },
      "source": [
        "DO UZUPEŁNIENIA"
      ]
    }
  ],
  "metadata": {
    "colab": {
      "provenance": []
    },
    "kernelspec": {
      "display_name": "Python 3 (ipykernel)",
      "language": "python",
      "name": "python3"
    },
    "language_info": {
      "codemirror_mode": {
        "name": "ipython",
        "version": 3
      },
      "file_extension": ".py",
      "mimetype": "text/x-python",
      "name": "python",
      "nbconvert_exporter": "python",
      "pygments_lexer": "ipython3",
      "version": "3.11.6"
    }
  },
  "nbformat": 4,
  "nbformat_minor": 0
}
